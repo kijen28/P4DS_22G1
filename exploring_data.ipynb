{
 "cells": [
  {
   "cell_type": "markdown",
   "metadata": {},
   "source": [
    "# 2. Exploring Data"
   ]
  },
  {
   "cell_type": "markdown",
   "metadata": {},
   "source": [
    "## 2.0. Import Necessary Libraries"
   ]
  },
  {
   "cell_type": "code",
   "execution_count": 1,
   "metadata": {},
   "outputs": [],
   "source": [
    "import numpy as np\n",
    "import pandas as pd\n",
    "import matplotlib.pyplot as plt\n",
    "import seaborn as sns"
   ]
  },
  {
   "cell_type": "markdown",
   "metadata": {},
   "source": [
    "This section imports the essential Python libraries required for data analysis, visualization, and statistical exploration. Each library serves a specific purpose:\n",
    "\n",
    "- **NumPy (np)**: Provides support for multi-dimensional arrays and a wide range of mathematical operations, facilitating efficient numerical computations.\n",
    "- **Pandas (pd)**: A powerful data manipulation library used for loading, cleaning, and analyzing structured data through its **DataFrame** and **Series** objects.\n",
    "- **Matplotlib (plt)**: A versatile library for creating static, interactive, and animated visualizations, primarily used for plotting data in 2D.\n",
    "- **Seaborn (sns)**: Built on top of Matplotlib, this library simplifies the creation of visually appealing and informative statistical graphics, offering a high-level interface for data visualization.\n",
    "\n",
    "These libraries together enable efficient data processing and insightful visual representations to support data-driven decision-making."
   ]
  },
  {
   "cell_type": "markdown",
   "metadata": {},
   "source": [
    "## 2.1. Read data"
   ]
  },
  {
   "cell_type": "code",
   "execution_count": 2,
   "metadata": {},
   "outputs": [],
   "source": [
    "data_path = './Data/CarInformation.csv'\n",
    "df = pd.read_csv(data_path)"
   ]
  },
  {
   "cell_type": "markdown",
   "metadata": {},
   "source": [
    "In this section, we use the **Pandas** library to read data from a CSV file containing information about automobiles. \n",
    "\n",
    "- First, the file path is stored in the variable `data_path`.\n",
    "- Then, the `pd.read_csv()` function is called to load the data from the file and convert it into a **DataFrame** object, which allows for easier manipulation, analysis, and visualization of the data.\n",
    "- The `df` variable holds the loaded dataset, which can be used for further processing in the subsequent steps of the analysis.\n",
    "\n",
    "This approach simplifies data handling and prepares the dataset for deeper exploration and analysis."
   ]
  },
  {
   "cell_type": "markdown",
   "metadata": {},
   "source": [
    "## 2.2. How many rows and how many columns?"
   ]
  },
  {
   "cell_type": "code",
   "execution_count": 3,
   "metadata": {},
   "outputs": [
    {
     "name": "stdout",
     "output_type": "stream",
     "text": [
      "Number of Row:  398\n",
      "Number of Column:  9\n"
     ]
    }
   ],
   "source": [
    "row, col = df.shape\n",
    "print(\"Number of Row: \", row)\n",
    "print(\"Number of Column: \", col)"
   ]
  },
  {
   "cell_type": "markdown",
   "metadata": {},
   "source": [
    "The dataset contains **398 rows** and **9 columns**. This indicates that there are **398 entries** or **records** in the dataset, each corresponding to a different **automobile**. The **9 columns** represent various attributes of these automobiles, which might include characteristics such as **fuel efficiency**, **engine specifications**, and **model details**.\n",
    "\n",
    "With this structure, the dataset provides a **comprehensive set of features** for each vehicle, offering sufficient data for **analysis** and **model building**. The relatively moderate number of rows suggests that while the dataset is **not very large**, it still provides a **meaningful sample** for **analysis** and **pattern discovery**."
   ]
  },
  {
   "cell_type": "markdown",
   "metadata": {},
   "source": [
    "## 2.3. What is the meaning of each row?"
   ]
  },
  {
   "cell_type": "code",
   "execution_count": 4,
   "metadata": {},
   "outputs": [
    {
     "data": {
      "text/html": [
       "<div>\n",
       "<style scoped>\n",
       "    .dataframe tbody tr th:only-of-type {\n",
       "        vertical-align: middle;\n",
       "    }\n",
       "\n",
       "    .dataframe tbody tr th {\n",
       "        vertical-align: top;\n",
       "    }\n",
       "\n",
       "    .dataframe thead th {\n",
       "        text-align: right;\n",
       "    }\n",
       "</style>\n",
       "<table border=\"1\" class=\"dataframe\">\n",
       "  <thead>\n",
       "    <tr style=\"text-align: right;\">\n",
       "      <th></th>\n",
       "      <th>name</th>\n",
       "      <th>mpg</th>\n",
       "      <th>cylinders</th>\n",
       "      <th>displacement</th>\n",
       "      <th>horsepower</th>\n",
       "      <th>weight</th>\n",
       "      <th>acceleration</th>\n",
       "      <th>model_year</th>\n",
       "      <th>origin</th>\n",
       "    </tr>\n",
       "  </thead>\n",
       "  <tbody>\n",
       "    <tr>\n",
       "      <th>0</th>\n",
       "      <td>chevrolet chevelle malibu</td>\n",
       "      <td>18.0</td>\n",
       "      <td>8</td>\n",
       "      <td>307.0</td>\n",
       "      <td>130.0</td>\n",
       "      <td>3504</td>\n",
       "      <td>12.0</td>\n",
       "      <td>70</td>\n",
       "      <td>usa</td>\n",
       "    </tr>\n",
       "    <tr>\n",
       "      <th>1</th>\n",
       "      <td>buick skylark 320</td>\n",
       "      <td>15.0</td>\n",
       "      <td>8</td>\n",
       "      <td>350.0</td>\n",
       "      <td>165.0</td>\n",
       "      <td>3693</td>\n",
       "      <td>11.5</td>\n",
       "      <td>70</td>\n",
       "      <td>usa</td>\n",
       "    </tr>\n",
       "    <tr>\n",
       "      <th>2</th>\n",
       "      <td>plymouth satellite</td>\n",
       "      <td>18.0</td>\n",
       "      <td>8</td>\n",
       "      <td>318.0</td>\n",
       "      <td>150.0</td>\n",
       "      <td>3436</td>\n",
       "      <td>11.0</td>\n",
       "      <td>70</td>\n",
       "      <td>usa</td>\n",
       "    </tr>\n",
       "    <tr>\n",
       "      <th>3</th>\n",
       "      <td>amc rebel sst</td>\n",
       "      <td>16.0</td>\n",
       "      <td>8</td>\n",
       "      <td>304.0</td>\n",
       "      <td>150.0</td>\n",
       "      <td>3433</td>\n",
       "      <td>12.0</td>\n",
       "      <td>70</td>\n",
       "      <td>usa</td>\n",
       "    </tr>\n",
       "    <tr>\n",
       "      <th>4</th>\n",
       "      <td>ford torino</td>\n",
       "      <td>17.0</td>\n",
       "      <td>8</td>\n",
       "      <td>302.0</td>\n",
       "      <td>140.0</td>\n",
       "      <td>3449</td>\n",
       "      <td>10.5</td>\n",
       "      <td>70</td>\n",
       "      <td>usa</td>\n",
       "    </tr>\n",
       "  </tbody>\n",
       "</table>\n",
       "</div>"
      ],
      "text/plain": [
       "                        name   mpg  cylinders  displacement  horsepower  \\\n",
       "0  chevrolet chevelle malibu  18.0          8         307.0       130.0   \n",
       "1          buick skylark 320  15.0          8         350.0       165.0   \n",
       "2         plymouth satellite  18.0          8         318.0       150.0   \n",
       "3              amc rebel sst  16.0          8         304.0       150.0   \n",
       "4                ford torino  17.0          8         302.0       140.0   \n",
       "\n",
       "   weight  acceleration  model_year origin  \n",
       "0    3504          12.0          70    usa  \n",
       "1    3693          11.5          70    usa  \n",
       "2    3436          11.0          70    usa  \n",
       "3    3433          12.0          70    usa  \n",
       "4    3449          10.5          70    usa  "
      ]
     },
     "execution_count": 4,
     "metadata": {},
     "output_type": "execute_result"
    }
   ],
   "source": [
    "df.head()"
   ]
  },
  {
   "cell_type": "markdown",
   "metadata": {},
   "source": [
    "Each **row** in the dataset represents the **information of a specific automobile**. Each row contains a set of **attributes** related to that particular vehicle, which describe its **characteristics** and **performance**. These rows collectively provide a **detailed profile** for every car, allowing for **comparisons** across different vehicles based on various features such as **fuel efficiency**, **engine specifications**, and **model year**.\n",
    "\n",
    "Essentially, every row captures the **key data** for an individual car, and this **structured representation** helps in understanding **patterns**, **trends**, and **relationships** within the dataset. By examining the rows, we can analyze how different cars vary based on their **attributes** and make **informed decisions** or **predictions**."
   ]
  },
  {
   "cell_type": "markdown",
   "metadata": {},
   "source": [
    "## 2.4. Are there duplicated rows?"
   ]
  },
  {
   "cell_type": "code",
   "execution_count": 5,
   "metadata": {},
   "outputs": [
    {
     "data": {
      "text/html": [
       "<div>\n",
       "<style scoped>\n",
       "    .dataframe tbody tr th:only-of-type {\n",
       "        vertical-align: middle;\n",
       "    }\n",
       "\n",
       "    .dataframe tbody tr th {\n",
       "        vertical-align: top;\n",
       "    }\n",
       "\n",
       "    .dataframe thead th {\n",
       "        text-align: right;\n",
       "    }\n",
       "</style>\n",
       "<table border=\"1\" class=\"dataframe\">\n",
       "  <thead>\n",
       "    <tr style=\"text-align: right;\">\n",
       "      <th></th>\n",
       "      <th>name</th>\n",
       "      <th>mpg</th>\n",
       "      <th>cylinders</th>\n",
       "      <th>displacement</th>\n",
       "      <th>horsepower</th>\n",
       "      <th>weight</th>\n",
       "      <th>acceleration</th>\n",
       "      <th>model_year</th>\n",
       "      <th>origin</th>\n",
       "    </tr>\n",
       "  </thead>\n",
       "  <tbody>\n",
       "  </tbody>\n",
       "</table>\n",
       "</div>"
      ],
      "text/plain": [
       "Empty DataFrame\n",
       "Columns: [name, mpg, cylinders, displacement, horsepower, weight, acceleration, model_year, origin]\n",
       "Index: []"
      ]
     },
     "execution_count": 5,
     "metadata": {},
     "output_type": "execute_result"
    }
   ],
   "source": [
    "df[df.duplicated(keep=False)]"
   ]
  },
  {
   "cell_type": "markdown",
   "metadata": {},
   "source": [
    "Upon checking the dataset for **duplicated rows** using the command `df[df.duplicated(keep=False)]`, it is observed that there are **no duplicated rows** present. This means that each **entry** in the dataset is **unique**, which is a good sign as it ensures that there is no **redundancy** in the data. \n",
    "\n",
    "The **absence of duplicate rows** is important because it prevents potential **biases** or **errors** that could arise from analyzing repeated data. It suggests that the data has been **properly collected** and **cleaned**, making it suitable for further **analysis** and **modeling** without the need for **data cleansing** regarding duplicates."
   ]
  },
  {
   "cell_type": "markdown",
   "metadata": {},
   "source": [
    "## 2.5. What is the meaning of each column?"
   ]
  },
  {
   "cell_type": "code",
   "execution_count": 6,
   "metadata": {},
   "outputs": [
    {
     "data": {
      "text/plain": [
       "['name',\n",
       " 'mpg',\n",
       " 'cylinders',\n",
       " 'displacement',\n",
       " 'horsepower',\n",
       " 'weight',\n",
       " 'acceleration',\n",
       " 'model_year',\n",
       " 'origin']"
      ]
     },
     "execution_count": 6,
     "metadata": {},
     "output_type": "execute_result"
    }
   ],
   "source": [
    "list(df.columns.values)"
   ]
  },
  {
   "cell_type": "markdown",
   "metadata": {},
   "source": [
    "Here is a detailed explanation of each column in the dataset:"
   ]
  },
  {
   "cell_type": "markdown",
   "metadata": {},
   "source": [
    "| **Column**     | **Description**                                                                 | **Meaning** |\n",
    "|----------------|---------------------------------------------------------------------------------|-------------|\n",
    "| **name**       | Unique identifier for each car.                                                 | This is the unique identifier for each car, usually representing the car's model or specific name. It is used to differentiate between individual cars in the dataset, providing a reference point for each vehicle. |\n",
    "| **mpg**        | Fuel efficiency measured in miles per gallon. 1 Gallon = 3,785411784 liters      | MPG stands for \"Miles per Gallon,\" which measures the fuel efficiency of the car. It indicates how far the car can travel on one gallon of fuel. A higher MPG value typically reflects better fuel economy, which is a key factor for buyers looking to reduce fuel costs and minimize their environmental impact. 1 Gallon is equivalent to 3.785411784 liters. |\n",
    "| **cylinders**  | Number of cylinders in the engine.                                              | This column represents the number of cylinders in the engine. The number of cylinders affects the engine's power output and efficiency. Cars with more cylinders typically have more power, but they may also consume more fuel, while cars with fewer cylinders tend to be more fuel-efficient. |\n",
    "| **displacement**| Engine displacement, indicating its size or capacity.                            | Engine displacement refers to the total volume of all the cylinders in an engine, usually measured in liters or cubic inches. It gives an indication of the engine’s size and its potential to produce power. Larger displacement engines generally provide more horsepower and torque but may be less fuel-efficient. |\n",
    "| **horsepower** | Power output of the engine.                                                     | Horsepower indicates the power output of the car’s engine. It is a measure of the engine's ability to do work, with higher values representing more powerful engines that can achieve faster speeds or handle more strenuous tasks, such as towing. |\n",
    "| **weight**     | Weight of the car.                                                              | The weight of the car is listed in this column. Heavier cars tend to have more stability on the road, but they can be less fuel-efficient and slower to accelerate. The weight also plays a role in the car's safety, as heavier vehicles typically provide better protection in collisions. |\n",
    "| **acceleration**| Capability to increase speed, measured in seconds.                              | This column measures the car's ability to accelerate, typically represented by the time it takes to go from 0 to 60 miles per hour (0-100 km/h). Cars with faster acceleration times are generally considered more performance-oriented and can offer a more dynamic driving experience. |\n",
    "| **model_year** | Year of manufacture for the car model.                                          | The model year of the car refers to the year the car was manufactured or the year the model was introduced to the market. This column helps identify the age of the vehicle, which can affect its value, technology, and reliability. |\n",
    "| **origin**     | Country or region of origin for each car.                                       | The origin column indicates the country or region where the car was manufactured or designed. This can provide insights into the car's design philosophy, quality standards, and the reputation of manufacturers from specific regions (e.g., American, European, or Japanese cars). |\n"
   ]
  },
  {
   "cell_type": "markdown",
   "metadata": {},
   "source": [
    "These **columns** represent the **key characteristics** that help describe each **automobile** in the dataset. Understanding these **attributes** is important for **analyzing** the cars, **comparing** their **performance**, and making **data-driven decisions**."
   ]
  },
  {
   "cell_type": "markdown",
   "metadata": {},
   "source": [
    "## 2.6. What is the current data type of each column? Are there columns having inappropriate data types?"
   ]
  },
  {
   "cell_type": "markdown",
   "metadata": {},
   "source": [
    "### 2.6.1. Overview of Data Types:"
   ]
  },
  {
   "cell_type": "markdown",
   "metadata": {},
   "source": [
    "To get a **general overview** of the dataset without detailed analysis or statistical insights, you can simply display the **data types** of each **column** and a quick **summary** of each column (e.g., **unique values** for categorical columns and **summary statistics** for numerical columns)."
   ]
  },
  {
   "cell_type": "code",
   "execution_count": 7,
   "metadata": {},
   "outputs": [
    {
     "data": {
      "text/plain": [
       "name             object\n",
       "mpg             float64\n",
       "cylinders         int64\n",
       "displacement    float64\n",
       "horsepower      float64\n",
       "weight            int64\n",
       "acceleration    float64\n",
       "model_year        int64\n",
       "origin           object\n",
       "dtype: object"
      ]
     },
     "execution_count": 7,
     "metadata": {},
     "output_type": "execute_result"
    }
   ],
   "source": [
    "df.dtypes"
   ]
  },
  {
   "cell_type": "markdown",
   "metadata": {},
   "source": [
    "The **data types** of each **column** in the dataset provide useful insights into the **structure** of the data. Here’s a breakdown and interpretation of each column's **data type**:"
   ]
  },
  {
   "cell_type": "markdown",
   "metadata": {},
   "source": [
    "| **Column Name**  | **Data Type** | **Description** |\n",
    "|------------------|---------------|-----------------|\n",
    "| **name**         | object        | This column is an identifier for each car, and it is of type `object`, which typically means that the data is stored as text or strings. This is appropriate for a column that holds car names or unique identifiers. |\n",
    "| **mpg**          | float64       | The `mpg` (miles per gallon) column is of type `float64`, which indicates that it holds numerical data with decimals. This is appropriate, as fuel efficiency is usually represented with decimal numbers. |\n",
    "| **cylinders**    | int64         | The `cylinders` column is of type `int64`, which means it stores integer values. This is expected since the number of cylinders in an engine is a whole number. |\n",
    "| **displacement** | float64       | The `displacement` column is of type `float64`, which is appropriate because engine displacement can have decimal values (e.g., 2.5 liters). |\n",
    "| **horsepower**   | float64       | The `horsepower` column is of type `float64`, meaning it stores numerical values with decimals. This makes sense since engine power can vary and be expressed with fractional numbers. |\n",
    "| **weight**       | int64         | The `weight` column is of type `int64`, which indicates that the weight of the car is represented as an integer. This is correct, as weight is usually measured in whole units (e.g., kilograms or pounds). |\n",
    "| **acceleration** | float64       | The `acceleration` column is of type `float64`, which makes sense as acceleration times are typically measured with decimal precision (e.g., 8.5 seconds to 60 mph). |\n",
    "| **model_year**   | int64         | The `model_year` column is of type `int64`, which is appropriate since model years are typically represented by whole integers (e.g., 1985, 2020). |\n",
    "| **origin**       | object        | The `origin` column is of type `object`, meaning it holds text data (typically the country or region of origin). This is correct as the origin is generally a categorical variable represented by names (e.g., 'USA', 'Europe', 'Japan'). |"
   ]
  },
  {
   "cell_type": "markdown",
   "metadata": {},
   "source": [
    "#### Summary:\n",
    "- **_Correct Data Types_**: Most **columns** have the appropriate **data types**. **_Numerical columns_** like **`mpg`**, **`horsepower`**, **`displacement`**, **`acceleration`**, etc., are correctly represented as **`float64`**, while whole numbers like **`cylinders`**, **`weight`**, and **`model_year`** are appropriately stored as **`int64`**.\n",
    "- **_Categorical Columns_**: **`name`** and **`origin`** are stored as **`object`**, which is correct for **_textual_** or **_categorical data_**.\n"
   ]
  },
  {
   "cell_type": "markdown",
   "metadata": {},
   "source": [
    "#### **_Potential Improvements_**:\n",
    "- **_Missing Data Check_**: It’s important to check if there are any missing values in the dataset, especially for numerical columns like **`horsepower`**, which could sometimes have missing or incorrect values.\n",
    "- **_Consistency in `origin` Column_**: If **`origin`** has categories like **`'USA'`**, **`'Europe'`**, and **`'Japan'`**, it might be beneficial to convert it into a **categorical** data type (**`category`**) for efficiency and consistency in processing."
   ]
  },
  {
   "cell_type": "markdown",
   "metadata": {},
   "source": [
    "Overall, the data types are mostly appropriate for the nature of the data in each column."
   ]
  },
  {
   "cell_type": "markdown",
   "metadata": {},
   "source": [
    "### 2.6.2. Quick Summary of Columns:"
   ]
  },
  {
   "cell_type": "markdown",
   "metadata": {},
   "source": [
    "For a brief summary of the columns (showing the number of **unique values**, **null values**, etc.), you can use **`info()`**:"
   ]
  },
  {
   "cell_type": "code",
   "execution_count": 8,
   "metadata": {},
   "outputs": [
    {
     "name": "stdout",
     "output_type": "stream",
     "text": [
      "<class 'pandas.core.frame.DataFrame'>\n",
      "RangeIndex: 398 entries, 0 to 397\n",
      "Data columns (total 9 columns):\n",
      " #   Column        Non-Null Count  Dtype  \n",
      "---  ------        --------------  -----  \n",
      " 0   name          398 non-null    object \n",
      " 1   mpg           398 non-null    float64\n",
      " 2   cylinders     398 non-null    int64  \n",
      " 3   displacement  398 non-null    float64\n",
      " 4   horsepower    392 non-null    float64\n",
      " 5   weight        398 non-null    int64  \n",
      " 6   acceleration  398 non-null    float64\n",
      " 7   model_year    398 non-null    int64  \n",
      " 8   origin        398 non-null    object \n",
      "dtypes: float64(4), int64(3), object(2)\n",
      "memory usage: 28.1+ KB\n"
     ]
    }
   ],
   "source": [
    "df.info()"
   ]
  },
  {
   "cell_type": "markdown",
   "metadata": {},
   "source": [
    "The DataFrame consists of **398 entries** and **9 columns**. Below is a detailed summary of the columns:"
   ]
  },
  {
   "cell_type": "markdown",
   "metadata": {},
   "source": [
    "| **Column Name**   | **Non-Null Count** | **Data Type** | **Notes** |\n",
    "|-------------------|--------------------|---------------|-----------|\n",
    "| **name**          | 398 non-null       | object        | No missing values, this column stores the car's name or identifier. |\n",
    "| **mpg**           | 398 non-null       | float64       | No missing values, stores miles per gallon, a numerical column. |\n",
    "| **cylinders**     | 398 non-null       | int64         | No missing values, stores the number of cylinders in the car's engine. |\n",
    "| **displacement**  | 398 non-null       | float64       | No missing values, stores engine displacement in liters, a numerical value. |\n",
    "| **horsepower**    | 392 non-null       | float64       | There are 6 missing values, stores the car's horsepower, a numerical value. |\n",
    "| **weight**        | 398 non-null       | int64         | No missing values, stores the car's weight in kilograms or pounds. |\n",
    "| **acceleration**  | 398 non-null       | float64       | No missing values, stores acceleration time (e.g., 0-60 mph) as a decimal value. |\n",
    "| **model_year**    | 398 non-null       | int64         | No missing values, stores the model year of the car. |\n",
    "| **origin**        | 398 non-null       | object        | No missing values, stores the car's country of origin (categorical). |"
   ]
  },
  {
   "cell_type": "markdown",
   "metadata": {},
   "source": [
    "#### Key Observations:\n",
    "- The DataFrame is mostly complete with no missing values in most columns except for **horsepower**, which has 6 missing entries.\n",
    "- The columns contain a mix of numerical (`int64`, `float64`) and categorical (`object`) data types.\n",
    "- The memory usage is **28.1 KB**."
   ]
  },
  {
   "cell_type": "markdown",
   "metadata": {},
   "source": [
    "#### Recommendations:\n",
    "- The missing values in the **horsepower** column should be addressed (e.g., imputation, removal) based on further analysis."
   ]
  },
  {
   "cell_type": "markdown",
   "metadata": {},
   "source": [
    "### 2.6.3. Quick Statistics for Numerical Columns:"
   ]
  },
  {
   "cell_type": "markdown",
   "metadata": {},
   "source": [
    "For numerical columns, you can get a basic summary with describe():"
   ]
  },
  {
   "cell_type": "code",
   "execution_count": 9,
   "metadata": {},
   "outputs": [
    {
     "data": {
      "text/html": [
       "<div>\n",
       "<style scoped>\n",
       "    .dataframe tbody tr th:only-of-type {\n",
       "        vertical-align: middle;\n",
       "    }\n",
       "\n",
       "    .dataframe tbody tr th {\n",
       "        vertical-align: top;\n",
       "    }\n",
       "\n",
       "    .dataframe thead th {\n",
       "        text-align: right;\n",
       "    }\n",
       "</style>\n",
       "<table border=\"1\" class=\"dataframe\">\n",
       "  <thead>\n",
       "    <tr style=\"text-align: right;\">\n",
       "      <th></th>\n",
       "      <th>mpg</th>\n",
       "      <th>cylinders</th>\n",
       "      <th>displacement</th>\n",
       "      <th>horsepower</th>\n",
       "      <th>weight</th>\n",
       "      <th>acceleration</th>\n",
       "      <th>model_year</th>\n",
       "    </tr>\n",
       "  </thead>\n",
       "  <tbody>\n",
       "    <tr>\n",
       "      <th>count</th>\n",
       "      <td>398.000000</td>\n",
       "      <td>398.000000</td>\n",
       "      <td>398.000000</td>\n",
       "      <td>392.000000</td>\n",
       "      <td>398.000000</td>\n",
       "      <td>398.000000</td>\n",
       "      <td>398.000000</td>\n",
       "    </tr>\n",
       "    <tr>\n",
       "      <th>mean</th>\n",
       "      <td>23.514573</td>\n",
       "      <td>5.454774</td>\n",
       "      <td>193.425879</td>\n",
       "      <td>104.469388</td>\n",
       "      <td>2970.424623</td>\n",
       "      <td>15.568090</td>\n",
       "      <td>76.010050</td>\n",
       "    </tr>\n",
       "    <tr>\n",
       "      <th>std</th>\n",
       "      <td>7.815984</td>\n",
       "      <td>1.701004</td>\n",
       "      <td>104.269838</td>\n",
       "      <td>38.491160</td>\n",
       "      <td>846.841774</td>\n",
       "      <td>2.757689</td>\n",
       "      <td>3.697627</td>\n",
       "    </tr>\n",
       "    <tr>\n",
       "      <th>min</th>\n",
       "      <td>9.000000</td>\n",
       "      <td>3.000000</td>\n",
       "      <td>68.000000</td>\n",
       "      <td>46.000000</td>\n",
       "      <td>1613.000000</td>\n",
       "      <td>8.000000</td>\n",
       "      <td>70.000000</td>\n",
       "    </tr>\n",
       "    <tr>\n",
       "      <th>25%</th>\n",
       "      <td>17.500000</td>\n",
       "      <td>4.000000</td>\n",
       "      <td>104.250000</td>\n",
       "      <td>75.000000</td>\n",
       "      <td>2223.750000</td>\n",
       "      <td>13.825000</td>\n",
       "      <td>73.000000</td>\n",
       "    </tr>\n",
       "    <tr>\n",
       "      <th>50%</th>\n",
       "      <td>23.000000</td>\n",
       "      <td>4.000000</td>\n",
       "      <td>148.500000</td>\n",
       "      <td>93.500000</td>\n",
       "      <td>2803.500000</td>\n",
       "      <td>15.500000</td>\n",
       "      <td>76.000000</td>\n",
       "    </tr>\n",
       "    <tr>\n",
       "      <th>75%</th>\n",
       "      <td>29.000000</td>\n",
       "      <td>8.000000</td>\n",
       "      <td>262.000000</td>\n",
       "      <td>126.000000</td>\n",
       "      <td>3608.000000</td>\n",
       "      <td>17.175000</td>\n",
       "      <td>79.000000</td>\n",
       "    </tr>\n",
       "    <tr>\n",
       "      <th>max</th>\n",
       "      <td>46.600000</td>\n",
       "      <td>8.000000</td>\n",
       "      <td>455.000000</td>\n",
       "      <td>230.000000</td>\n",
       "      <td>5140.000000</td>\n",
       "      <td>24.800000</td>\n",
       "      <td>82.000000</td>\n",
       "    </tr>\n",
       "  </tbody>\n",
       "</table>\n",
       "</div>"
      ],
      "text/plain": [
       "              mpg   cylinders  displacement  horsepower       weight  \\\n",
       "count  398.000000  398.000000    398.000000  392.000000   398.000000   \n",
       "mean    23.514573    5.454774    193.425879  104.469388  2970.424623   \n",
       "std      7.815984    1.701004    104.269838   38.491160   846.841774   \n",
       "min      9.000000    3.000000     68.000000   46.000000  1613.000000   \n",
       "25%     17.500000    4.000000    104.250000   75.000000  2223.750000   \n",
       "50%     23.000000    4.000000    148.500000   93.500000  2803.500000   \n",
       "75%     29.000000    8.000000    262.000000  126.000000  3608.000000   \n",
       "max     46.600000    8.000000    455.000000  230.000000  5140.000000   \n",
       "\n",
       "       acceleration  model_year  \n",
       "count    398.000000  398.000000  \n",
       "mean      15.568090   76.010050  \n",
       "std        2.757689    3.697627  \n",
       "min        8.000000   70.000000  \n",
       "25%       13.825000   73.000000  \n",
       "50%       15.500000   76.000000  \n",
       "75%       17.175000   79.000000  \n",
       "max       24.800000   82.000000  "
      ]
     },
     "execution_count": 9,
     "metadata": {},
     "output_type": "execute_result"
    }
   ],
   "source": [
    "df.describe()"
   ]
  },
  {
   "cell_type": "markdown",
   "metadata": {},
   "source": [
    "#### Key Observations\n",
    "\n",
    "| **Observation**                | **Details**                                                                 |\n",
    "|---------------------------------|-----------------------------------------------------------------------------|\n",
    "| **mpg (Miles per Gallon)**     | Mean is **23.51**, with a wide range (**9.00** to **46.60**), indicating variability in fuel efficiency across cars. |\n",
    "| **cylinders**                   | Most cars have either **4** or **8** cylinders. The mean is **5.45**, with a range from **3** to **8**. |\n",
    "| **displacement**                | The average displacement is **193.43**, with values ranging from **68.00** to **455.00**, indicating varying engine sizes. |\n",
    "| **horsepower**                  | Average horsepower is **104.47**, ranging from **46** to **230**. The variability in horsepower is high, as indicated by the standard deviation of **38.49**. |\n",
    "| **weight**                      | Mean weight is **2970.42**, ranging from **1613.00** to **5140.00**, showing significant differences in car sizes. |\n",
    "| **acceleration**                | The average acceleration time is **15.57** seconds, ranging from **8.00** to **24.80** seconds. Moderate variation in acceleration performance is observed. |\n",
    "| **model_year**                  | The model years range from **70** to **82**, with a mean of **76.01**, indicating most cars are from the late 1970s and early 1980s. |\n"
   ]
  },
  {
   "cell_type": "markdown",
   "metadata": {},
   "source": [
    "#### Recommendations:\n",
    "- The data shows variability in many columns, which might suggest that different car types (e.g., sedans, sports cars, etc.) are present.\n",
    "- The missing data in the **horsepower** column should be addressed, possibly through imputation or analysis based on other features."
   ]
  },
  {
   "cell_type": "markdown",
   "metadata": {},
   "source": [
    "#### Handling the `model_year` Column\n",
    "\n",
    "The `model_year` column initially contains values representing the year of the car model, but these values are in a two-digit format (e.g., '70' for 1970). To convert these values into a more standard four-digit year format (e.g., '1970'), we will add 1900 to each value."
   ]
  },
  {
   "cell_type": "markdown",
   "metadata": {},
   "source": [
    "##### Step 1: Inspect the Maximum Value of `model_year`\n",
    "\n",
    "To understand the current state of the `model_year` column, we first check the maximum value."
   ]
  },
  {
   "cell_type": "code",
   "execution_count": 10,
   "metadata": {},
   "outputs": [
    {
     "name": "stdout",
     "output_type": "stream",
     "text": [
      "82\n"
     ]
    }
   ],
   "source": [
    "print(df['model_year'].max())"
   ]
  },
  {
   "cell_type": "markdown",
   "metadata": {},
   "source": [
    "This will output the maximum value in the column, which is 82 in the dataset, representing the model year '82' (or 1982)."
   ]
  },
  {
   "cell_type": "markdown",
   "metadata": {},
   "source": [
    "##### Step 2: Convert to Four-Digit Year Format\n",
    "\n",
    "Next, we add 1900 to each value in the model_year column to convert it to the four-digit year format:"
   ]
  },
  {
   "cell_type": "code",
   "execution_count": 11,
   "metadata": {},
   "outputs": [],
   "source": [
    "df['model_year'] = df['model_year'] + 1900"
   ]
  },
  {
   "cell_type": "markdown",
   "metadata": {},
   "source": [
    "After this operation, the model_year column will contain values like 1970, 1982, etc., instead of 70, 82, making the data more consistent and easier to interpret."
   ]
  },
  {
   "cell_type": "markdown",
   "metadata": {},
   "source": [
    "##### Step 3: Final Check"
   ]
  },
  {
   "cell_type": "markdown",
   "metadata": {},
   "source": [
    "To confirm the transformation, we can print the updated model_year column:"
   ]
  },
  {
   "cell_type": "code",
   "execution_count": 12,
   "metadata": {},
   "outputs": [
    {
     "data": {
      "text/plain": [
       "0      1970\n",
       "1      1970\n",
       "2      1970\n",
       "3      1970\n",
       "4      1970\n",
       "       ... \n",
       "393    1982\n",
       "394    1982\n",
       "395    1982\n",
       "396    1982\n",
       "397    1982\n",
       "Name: model_year, Length: 398, dtype: int64"
      ]
     },
     "execution_count": 12,
     "metadata": {},
     "output_type": "execute_result"
    }
   ],
   "source": [
    "df['model_year']"
   ]
  },
  {
   "cell_type": "markdown",
   "metadata": {},
   "source": [
    "This will display the column with the corrected four-digit years."
   ]
  },
  {
   "cell_type": "markdown",
   "metadata": {},
   "source": [
    "## 2.7. With each numerical column, how are values distributed?"
   ]
  },
  {
   "cell_type": "markdown",
   "metadata": {},
   "source": [
    "The `calculate_value_distributed` function calculates key statistics (e.g., missing values, min, max, mean, median, quartiles) for a specified column (`col`) in a DataFrame (`df`). It stores these metrics in a DataFrame (`infor`) and generates two visualizations: a histogram with Kernel Density Estimation (KDE) and a boxplot. The function returns the `infor` DataFrame with the statistical summary.\n",
    "\n",
    "**Parameters:**\n",
    "- `df`: The input DataFrame containing the data.\n",
    "- `col`: The column name (as a string) to analyze and visualize.\n",
    "\n",
    "**Return:**\n",
    "- Returns the `infor` DataFrame containing the statistical summary of the specified column.\n"
   ]
  },
  {
   "cell_type": "code",
   "execution_count": 13,
   "metadata": {},
   "outputs": [],
   "source": [
    "def calculate_value_distributed(df, col):\n",
    "    infor = pd.DataFrame()\n",
    "    \n",
    "    missing_val = df[col].isna().sum()\n",
    "    missing_per = missing_val / len(df[col]) * 100\n",
    "    min_val = df[col].min()\n",
    "    max_val = df[col].max()\n",
    "    mean_val = df[col].mean()\n",
    "    median_val = df[col].median()\n",
    "    lower_percentile = np.percentile(df[col].dropna(), 25) #column horsepower has NaN\n",
    "    upper_percentile = np.percentile(df[col].dropna(), 75) #column horsepower has NaN\n",
    "    col_info = pd.Series({\n",
    "        'num_missing': missing_val,\n",
    "        'missing_percentage': missing_per,\n",
    "        'min': min_val,\n",
    "        'lower_quartile': lower_percentile,\n",
    "        'median': median_val,\n",
    "        'mean': mean_val,\n",
    "        'upper_quartile': upper_percentile,\n",
    "        'max': max_val\n",
    "    })\n",
    "    infor[col] = col_info\n",
    "\n",
    "    # Visualization for each column\n",
    "    plt.figure(figsize=(12, 6))\n",
    "\n",
    "    # Histogram\n",
    "    plt.subplot(1, 2, 1)\n",
    "    sns.histplot(df[col].dropna(), kde=True, color='blue', bins=20)\n",
    "    plt.title(f'Histogram of {col}')\n",
    "    plt.xlabel(col)\n",
    "    plt.ylabel('Frequency')\n",
    "\n",
    "    # Boxplot\n",
    "    plt.subplot(1, 2, 2)\n",
    "    sns.boxplot(x=df[col].dropna(), color='green')\n",
    "    plt.title(f'Boxplot of {col}')\n",
    "    plt.xlabel(col)\n",
    "\n",
    "    plt.tight_layout()\n",
    "    plt.show()\n",
    "\n",
    "    return infor"
   ]
  },
  {
   "cell_type": "markdown",
   "metadata": {},
   "source": [
    "### MPG Columm"
   ]
  },
  {
   "cell_type": "code",
   "execution_count": 14,
   "metadata": {},
   "outputs": [
    {
     "data": {
      "image/png": "[encoded data removed]",
      "text/plain": [
       "<Figure size 1200x600 with 2 Axes>"
      ]
     },
     "metadata": {},
     "output_type": "display_data"
    },
    {
     "data": {
      "text/html": [
       "<div>\n",
       "<style scoped>\n",
       "    .dataframe tbody tr th:only-of-type {\n",
       "        vertical-align: middle;\n",
       "    }\n",
       "\n",
       "    .dataframe tbody tr th {\n",
       "        vertical-align: top;\n",
       "    }\n",
       "\n",
       "    .dataframe thead th {\n",
       "        text-align: right;\n",
       "    }\n",
       "</style>\n",
       "<table border=\"1\" class=\"dataframe\">\n",
       "  <thead>\n",
       "    <tr style=\"text-align: right;\">\n",
       "      <th></th>\n",
       "      <th>mpg</th>\n",
       "    </tr>\n",
       "  </thead>\n",
       "  <tbody>\n",
       "    <tr>\n",
       "      <th>num_missing</th>\n",
       "      <td>0.000000</td>\n",
       "    </tr>\n",
       "    <tr>\n",
       "      <th>missing_percentage</th>\n",
       "      <td>0.000000</td>\n",
       "    </tr>\n",
       "    <tr>\n",
       "      <th>min</th>\n",
       "      <td>9.000000</td>\n",
       "    </tr>\n",
       "    <tr>\n",
       "      <th>lower_quartile</th>\n",
       "      <td>17.500000</td>\n",
       "    </tr>\n",
       "    <tr>\n",
       "      <th>median</th>\n",
       "      <td>23.000000</td>\n",
       "    </tr>\n",
       "    <tr>\n",
       "      <th>mean</th>\n",
       "      <td>23.514573</td>\n",
       "    </tr>\n",
       "    <tr>\n",
       "      <th>upper_quartile</th>\n",
       "      <td>29.000000</td>\n",
       "    </tr>\n",
       "    <tr>\n",
       "      <th>max</th>\n",
       "      <td>46.600000</td>\n",
       "    </tr>\n",
       "  </tbody>\n",
       "</table>\n",
       "</div>"
      ],
      "text/plain": [
       "                          mpg\n",
       "num_missing          0.000000\n",
       "missing_percentage   0.000000\n",
       "min                  9.000000\n",
       "lower_quartile      17.500000\n",
       "median              23.000000\n",
       "mean                23.514573\n",
       "upper_quartile      29.000000\n",
       "max                 46.600000"
      ]
     },
     "execution_count": 14,
     "metadata": {},
     "output_type": "execute_result"
    }
   ],
   "source": [
    "infor_mpg = calculate_value_distributed(df, 'mpg')\n",
    "infor_mpg"
   ]
  },
  {
   "cell_type": "markdown",
   "metadata": {},
   "source": [
    "### Cylinders Columm"
   ]
  },
  {
   "cell_type": "code",
   "execution_count": 15,
   "metadata": {},
   "outputs": [
    {
     "data": {
      "image/png": "[encoded data removed]",
      "text/plain": [
       "<Figure size 1200x600 with 2 Axes>"
      ]
     },
     "metadata": {},
     "output_type": "display_data"
    },
    {
     "data": {
      "text/html": [
       "<div>\n",
       "<style scoped>\n",
       "    .dataframe tbody tr th:only-of-type {\n",
       "        vertical-align: middle;\n",
       "    }\n",
       "\n",
       "    .dataframe tbody tr th {\n",
       "        vertical-align: top;\n",
       "    }\n",
       "\n",
       "    .dataframe thead th {\n",
       "        text-align: right;\n",
       "    }\n",
       "</style>\n",
       "<table border=\"1\" class=\"dataframe\">\n",
       "  <thead>\n",
       "    <tr style=\"text-align: right;\">\n",
       "      <th></th>\n",
       "      <th>cylinders</th>\n",
       "    </tr>\n",
       "  </thead>\n",
       "  <tbody>\n",
       "    <tr>\n",
       "      <th>num_missing</th>\n",
       "      <td>0.000000</td>\n",
       "    </tr>\n",
       "    <tr>\n",
       "      <th>missing_percentage</th>\n",
       "      <td>0.000000</td>\n",
       "    </tr>\n",
       "    <tr>\n",
       "      <th>min</th>\n",
       "      <td>3.000000</td>\n",
       "    </tr>\n",
       "    <tr>\n",
       "      <th>lower_quartile</th>\n",
       "      <td>4.000000</td>\n",
       "    </tr>\n",
       "    <tr>\n",
       "      <th>median</th>\n",
       "      <td>4.000000</td>\n",
       "    </tr>\n",
       "    <tr>\n",
       "      <th>mean</th>\n",
       "      <td>5.454774</td>\n",
       "    </tr>\n",
       "    <tr>\n",
       "      <th>upper_quartile</th>\n",
       "      <td>8.000000</td>\n",
       "    </tr>\n",
       "    <tr>\n",
       "      <th>max</th>\n",
       "      <td>8.000000</td>\n",
       "    </tr>\n",
       "  </tbody>\n",
       "</table>\n",
       "</div>"
      ],
      "text/plain": [
       "                    cylinders\n",
       "num_missing          0.000000\n",
       "missing_percentage   0.000000\n",
       "min                  3.000000\n",
       "lower_quartile       4.000000\n",
       "median               4.000000\n",
       "mean                 5.454774\n",
       "upper_quartile       8.000000\n",
       "max                  8.000000"
      ]
     },
     "execution_count": 15,
     "metadata": {},
     "output_type": "execute_result"
    }
   ],
   "source": [
    "infor_cyc = calculate_value_distributed(df, 'cylinders')\n",
    "infor_cyc"
   ]
  },
  {
   "cell_type": "markdown",
   "metadata": {},
   "source": [
    "### Displacement Columm"
   ]
  },
  {
   "cell_type": "code",
   "execution_count": 16,
   "metadata": {},
   "outputs": [
    {
     "data": {
      "image/png": "[encoded data removed]",
      "text/plain": [
       "<Figure size 1200x600 with 2 Axes>"
      ]
     },
     "metadata": {},
     "output_type": "display_data"
    },
    {
     "data": {
      "text/html": [
       "<div>\n",
       "<style scoped>\n",
       "    .dataframe tbody tr th:only-of-type {\n",
       "        vertical-align: middle;\n",
       "    }\n",
       "\n",
       "    .dataframe tbody tr th {\n",
       "        vertical-align: top;\n",
       "    }\n",
       "\n",
       "    .dataframe thead th {\n",
       "        text-align: right;\n",
       "    }\n",
       "</style>\n",
       "<table border=\"1\" class=\"dataframe\">\n",
       "  <thead>\n",
       "    <tr style=\"text-align: right;\">\n",
       "      <th></th>\n",
       "      <th>displacement</th>\n",
       "    </tr>\n",
       "  </thead>\n",
       "  <tbody>\n",
       "    <tr>\n",
       "      <th>num_missing</th>\n",
       "      <td>0.000000</td>\n",
       "    </tr>\n",
       "    <tr>\n",
       "      <th>missing_percentage</th>\n",
       "      <td>0.000000</td>\n",
       "    </tr>\n",
       "    <tr>\n",
       "      <th>min</th>\n",
       "      <td>68.000000</td>\n",
       "    </tr>\n",
       "    <tr>\n",
       "      <th>lower_quartile</th>\n",
       "      <td>104.250000</td>\n",
       "    </tr>\n",
       "    <tr>\n",
       "      <th>median</th>\n",
       "      <td>148.500000</td>\n",
       "    </tr>\n",
       "    <tr>\n",
       "      <th>mean</th>\n",
       "      <td>193.425879</td>\n",
       "    </tr>\n",
       "    <tr>\n",
       "      <th>upper_quartile</th>\n",
       "      <td>262.000000</td>\n",
       "    </tr>\n",
       "    <tr>\n",
       "      <th>max</th>\n",
       "      <td>455.000000</td>\n",
       "    </tr>\n",
       "  </tbody>\n",
       "</table>\n",
       "</div>"
      ],
      "text/plain": [
       "                    displacement\n",
       "num_missing             0.000000\n",
       "missing_percentage      0.000000\n",
       "min                    68.000000\n",
       "lower_quartile        104.250000\n",
       "median                148.500000\n",
       "mean                  193.425879\n",
       "upper_quartile        262.000000\n",
       "max                   455.000000"
      ]
     },
     "execution_count": 16,
     "metadata": {},
     "output_type": "execute_result"
    }
   ],
   "source": [
    "infor_dis = calculate_value_distributed(df, 'displacement')\n",
    "infor_dis"
   ]
  },
  {
   "cell_type": "markdown",
   "metadata": {},
   "source": [
    "### Horsepower Columm"
   ]
  },
  {
   "cell_type": "code",
   "execution_count": 17,
   "metadata": {},
   "outputs": [
    {
     "data": {
      "image/png": "[encoded data removed]",
      "text/plain": [
       "<Figure size 1200x600 with 2 Axes>"
      ]
     },
     "metadata": {},
     "output_type": "display_data"
    },
    {
     "data": {
      "text/html": [
       "<div>\n",
       "<style scoped>\n",
       "    .dataframe tbody tr th:only-of-type {\n",
       "        vertical-align: middle;\n",
       "    }\n",
       "\n",
       "    .dataframe tbody tr th {\n",
       "        vertical-align: top;\n",
       "    }\n",
       "\n",
       "    .dataframe thead th {\n",
       "        text-align: right;\n",
       "    }\n",
       "</style>\n",
       "<table border=\"1\" class=\"dataframe\">\n",
       "  <thead>\n",
       "    <tr style=\"text-align: right;\">\n",
       "      <th></th>\n",
       "      <th>horsepower</th>\n",
       "    </tr>\n",
       "  </thead>\n",
       "  <tbody>\n",
       "    <tr>\n",
       "      <th>num_missing</th>\n",
       "      <td>6.000000</td>\n",
       "    </tr>\n",
       "    <tr>\n",
       "      <th>missing_percentage</th>\n",
       "      <td>1.507538</td>\n",
       "    </tr>\n",
       "    <tr>\n",
       "      <th>min</th>\n",
       "      <td>46.000000</td>\n",
       "    </tr>\n",
       "    <tr>\n",
       "      <th>lower_quartile</th>\n",
       "      <td>75.000000</td>\n",
       "    </tr>\n",
       "    <tr>\n",
       "      <th>median</th>\n",
       "      <td>93.500000</td>\n",
       "    </tr>\n",
       "    <tr>\n",
       "      <th>mean</th>\n",
       "      <td>104.469388</td>\n",
       "    </tr>\n",
       "    <tr>\n",
       "      <th>upper_quartile</th>\n",
       "      <td>126.000000</td>\n",
       "    </tr>\n",
       "    <tr>\n",
       "      <th>max</th>\n",
       "      <td>230.000000</td>\n",
       "    </tr>\n",
       "  </tbody>\n",
       "</table>\n",
       "</div>"
      ],
      "text/plain": [
       "                    horsepower\n",
       "num_missing           6.000000\n",
       "missing_percentage    1.507538\n",
       "min                  46.000000\n",
       "lower_quartile       75.000000\n",
       "median               93.500000\n",
       "mean                104.469388\n",
       "upper_quartile      126.000000\n",
       "max                 230.000000"
      ]
     },
     "execution_count": 17,
     "metadata": {},
     "output_type": "execute_result"
    }
   ],
   "source": [
    "infor_horsepower = calculate_value_distributed(df, 'horsepower')\n",
    "infor_horsepower"
   ]
  },
  {
   "cell_type": "markdown",
   "metadata": {},
   "source": [
    "### Weight Columm"
   ]
  },
  {
   "cell_type": "code",
   "execution_count": 18,
   "metadata": {},
   "outputs": [
    {
     "data": {
      "image/png": "[encoded data removed]",
      "text/plain": [
       "<Figure size 1200x600 with 2 Axes>"
      ]
     },
     "metadata": {},
     "output_type": "display_data"
    },
    {
     "data": {
      "text/html": [
       "<div>\n",
       "<style scoped>\n",
       "    .dataframe tbody tr th:only-of-type {\n",
       "        vertical-align: middle;\n",
       "    }\n",
       "\n",
       "    .dataframe tbody tr th {\n",
       "        vertical-align: top;\n",
       "    }\n",
       "\n",
       "    .dataframe thead th {\n",
       "        text-align: right;\n",
       "    }\n",
       "</style>\n",
       "<table border=\"1\" class=\"dataframe\">\n",
       "  <thead>\n",
       "    <tr style=\"text-align: right;\">\n",
       "      <th></th>\n",
       "      <th>weight</th>\n",
       "    </tr>\n",
       "  </thead>\n",
       "  <tbody>\n",
       "    <tr>\n",
       "      <th>num_missing</th>\n",
       "      <td>0.000000</td>\n",
       "    </tr>\n",
       "    <tr>\n",
       "      <th>missing_percentage</th>\n",
       "      <td>0.000000</td>\n",
       "    </tr>\n",
       "    <tr>\n",
       "      <th>min</th>\n",
       "      <td>1613.000000</td>\n",
       "    </tr>\n",
       "    <tr>\n",
       "      <th>lower_quartile</th>\n",
       "      <td>2223.750000</td>\n",
       "    </tr>\n",
       "    <tr>\n",
       "      <th>median</th>\n",
       "      <td>2803.500000</td>\n",
       "    </tr>\n",
       "    <tr>\n",
       "      <th>mean</th>\n",
       "      <td>2970.424623</td>\n",
       "    </tr>\n",
       "    <tr>\n",
       "      <th>upper_quartile</th>\n",
       "      <td>3608.000000</td>\n",
       "    </tr>\n",
       "    <tr>\n",
       "      <th>max</th>\n",
       "      <td>5140.000000</td>\n",
       "    </tr>\n",
       "  </tbody>\n",
       "</table>\n",
       "</div>"
      ],
      "text/plain": [
       "                         weight\n",
       "num_missing            0.000000\n",
       "missing_percentage     0.000000\n",
       "min                 1613.000000\n",
       "lower_quartile      2223.750000\n",
       "median              2803.500000\n",
       "mean                2970.424623\n",
       "upper_quartile      3608.000000\n",
       "max                 5140.000000"
      ]
     },
     "execution_count": 18,
     "metadata": {},
     "output_type": "execute_result"
    }
   ],
   "source": [
    "infor_weight = calculate_value_distributed(df, 'weight')\n",
    "infor_weight"
   ]
  },
  {
   "cell_type": "markdown",
   "metadata": {},
   "source": [
    "### Acceleration Columm"
   ]
  },
  {
   "cell_type": "code",
   "execution_count": 19,
   "metadata": {},
   "outputs": [
    {
     "data": {
      "image/png": "[encoded data removed]",
      "text/plain": [
       "<Figure size 1200x600 with 2 Axes>"
      ]
     },
     "metadata": {},
     "output_type": "display_data"
    },
    {
     "data": {
      "text/html": [
       "<div>\n",
       "<style scoped>\n",
       "    .dataframe tbody tr th:only-of-type {\n",
       "        vertical-align: middle;\n",
       "    }\n",
       "\n",
       "    .dataframe tbody tr th {\n",
       "        vertical-align: top;\n",
       "    }\n",
       "\n",
       "    .dataframe thead th {\n",
       "        text-align: right;\n",
       "    }\n",
       "</style>\n",
       "<table border=\"1\" class=\"dataframe\">\n",
       "  <thead>\n",
       "    <tr style=\"text-align: right;\">\n",
       "      <th></th>\n",
       "      <th>acceleration</th>\n",
       "    </tr>\n",
       "  </thead>\n",
       "  <tbody>\n",
       "    <tr>\n",
       "      <th>num_missing</th>\n",
       "      <td>0.00000</td>\n",
       "    </tr>\n",
       "    <tr>\n",
       "      <th>missing_percentage</th>\n",
       "      <td>0.00000</td>\n",
       "    </tr>\n",
       "    <tr>\n",
       "      <th>min</th>\n",
       "      <td>8.00000</td>\n",
       "    </tr>\n",
       "    <tr>\n",
       "      <th>lower_quartile</th>\n",
       "      <td>13.82500</td>\n",
       "    </tr>\n",
       "    <tr>\n",
       "      <th>median</th>\n",
       "      <td>15.50000</td>\n",
       "    </tr>\n",
       "    <tr>\n",
       "      <th>mean</th>\n",
       "      <td>15.56809</td>\n",
       "    </tr>\n",
       "    <tr>\n",
       "      <th>upper_quartile</th>\n",
       "      <td>17.17500</td>\n",
       "    </tr>\n",
       "    <tr>\n",
       "      <th>max</th>\n",
       "      <td>24.80000</td>\n",
       "    </tr>\n",
       "  </tbody>\n",
       "</table>\n",
       "</div>"
      ],
      "text/plain": [
       "                    acceleration\n",
       "num_missing              0.00000\n",
       "missing_percentage       0.00000\n",
       "min                      8.00000\n",
       "lower_quartile          13.82500\n",
       "median                  15.50000\n",
       "mean                    15.56809\n",
       "upper_quartile          17.17500\n",
       "max                     24.80000"
      ]
     },
     "execution_count": 19,
     "metadata": {},
     "output_type": "execute_result"
    }
   ],
   "source": [
    "infor_acceleration = calculate_value_distributed(df, 'acceleration')\n",
    "infor_acceleration"
   ]
  },
  {
   "cell_type": "markdown",
   "metadata": {},
   "source": [
    "### Outlier handling"
   ]
  },
  {
   "cell_type": "markdown",
   "metadata": {},
   "source": [
    "The `handle_outliers` function handles outliers in a specified column of a DataFrame (`df`) by using the Interquartile Range (IQR) method. It identifies outliers as values that fall below the lower bound or above the upper bound, defined by the formula:\n",
    "\n",
    "- **Lower bound**: \\( Q1 - 1.5 \\times IQR \\)\n",
    "- **Upper bound**: \\( Q3 + 1.5 \\times IQR \\)\n",
    "\n",
    "The function offers three approaches for handling the outliers:\n",
    "\n",
    "1. **Remove outliers**: It removes rows containing outliers from the DataFrame and returns a cleaned DataFrame.\n",
    "2. **Replace with median**: It replaces outlier values with the median value of the column.\n",
    "3. **Cap the outliers**: It caps the outlier values to the boundary values (either lower bound or upper bound).\n",
    "\n",
    "The function modifies the original DataFrame, replacing the outliers with the chosen method (cap or median).\n",
    "\n",
    "**Parameters:**\n",
    "- `df`: The input DataFrame containing the data.\n",
    "- `column_name`: The column name (as a string) to process for outliers.\n",
    "\n",
    "**Return:**\n",
    "- The function returns a DataFrame with outliers handled according to the chosen method."
   ]
  },
  {
   "cell_type": "code",
   "execution_count": 20,
   "metadata": {},
   "outputs": [
    {
     "name": "stdout",
     "output_type": "stream",
     "text": [
      "       horsepower  acceleration         mpg\n",
      "count  375.000000    381.000000  381.000000\n",
      "mean   101.664000     15.636745   23.665617\n",
      "std     33.653697      2.485508    7.532631\n",
      "min     46.000000      9.500000    9.000000\n",
      "25%     75.500000     14.000000   18.000000\n",
      "50%     92.000000     15.500000   23.000000\n",
      "75%    118.000000     17.100000   29.000000\n",
      "max    200.000000     22.200000   44.600000\n"
     ]
    }
   ],
   "source": [
    "def handle_outliers(df, column_name):\n",
    "    Q1 = df[column_name].quantile(0.25)\n",
    "    Q3 = df[column_name].quantile(0.75)\n",
    "    IQR = Q3 - Q1\n",
    "    \n",
    "    lower_bound = Q1 - 1.5 * IQR\n",
    "    upper_bound = Q3 + 1.5 * IQR\n",
    "    \n",
    "    outliers = df[(df[column_name] < lower_bound) | (df[column_name] > upper_bound)]\n",
    "    df_cleaned = df[~df[column_name].isin(outliers[column_name])]\n",
    "    median_value = df[column_name].median()\n",
    "    df[column_name] = np.where((df[column_name] < lower_bound) | (df[column_name] > upper_bound),\n",
    "                               median_value, df[column_name])\n",
    "    df[column_name] = np.clip(df[column_name], lower_bound, upper_bound)\n",
    "\n",
    "    return df_cleaned\n",
    "\n",
    "df = handle_outliers(df, 'horsepower')\n",
    "df = handle_outliers(df, 'acceleration')\n",
    "df = handle_outliers(df, 'mpg')\n",
    "\n",
    "print(df[['horsepower', 'acceleration', 'mpg']].describe())"
   ]
  },
  {
   "cell_type": "markdown",
   "metadata": {},
   "source": [
    "Here we can see that the \"horsepower\" column has missing values, so we will remove the rows containing NaN."
   ]
  },
  {
   "cell_type": "code",
   "execution_count": 21,
   "metadata": {},
   "outputs": [],
   "source": [
    "df = df.dropna()"
   ]
  },
  {
   "cell_type": "markdown",
   "metadata": {},
   "source": [
    "The \"acceleration\" column in this dataset is measured in seconds, representing the time required to accelerate. The longer the acceleration time, the more stable the vehicle's speed tends to be. We need to be cautious to avoid any confusion."
   ]
  },
  {
   "cell_type": "markdown",
   "metadata": {},
   "source": [
    "## 2.8. With each categorical column, how are values distributed?"
   ]
  },
  {
   "cell_type": "markdown",
   "metadata": {},
   "source": [
    "This dataset does not contain categorical data, as all the columns with the exception of **\"name\"** and **\"origin\"** are numerical. \n",
    "\n",
    "### Column Breakdown:\n",
    "\n",
    "- The **\"name\"** column contains string data (likely the name or identifier of the car), which could potentially represent different models or identifiers for cars.\n",
    "  \n",
    "- The **\"origin\"** column is an **object type**, which could represent the origin of the car (e.g., country or region). This column could also be treated as categorical data depending on the unique values it holds.\n",
    "\n",
    "### Conclusion:\n",
    "\n",
    "These two columns (**\"name\"** and **\"origin\"**) could potentially be categorical, but without explicit information on their unique values, it can be concluded that the majority of the dataset is composed of **continuous or integer-based** data. Therefore, **\"name\"** and **\"origin\"** are the only likely candidates for categorical analysis."
   ]
  }
 ],
 "metadata": {
  "kernelspec": {
   "display_name": "Python 3",
   "language": "python",
   "name": "python3"
  },
  "language_info": {
   "codemirror_mode": {
    "name": "ipython",
    "version": 3
   },
   "file_extension": ".py",
   "mimetype": "text/x-python",
   "name": "python",
   "nbconvert_exporter": "python",
   "pygments_lexer": "ipython3",
   "version": "3.12.6"
  }
 },
 "nbformat": 4,
 "nbformat_minor": 2
}
