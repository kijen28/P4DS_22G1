{
 "cells": [
  {
   "cell_type": "markdown",
   "metadata": {},
   "source": [
    "# 3. Asking meaningful question"
   ]
  },
  {
   "cell_type": "code",
   "execution_count": 1,
   "metadata": {},
   "outputs": [],
   "source": [
    "import numpy as np\n",
    "import pandas as pd\n",
    "import matplotlib.pyplot as plt\n",
    "import seaborn as sns"
   ]
  },
  {
   "cell_type": "code",
   "execution_count": 2,
   "metadata": {},
   "outputs": [],
   "source": [
    "data_path = './Data/CarInformation.csv'\n",
    "df = pd.read_csv(data_path)"
   ]
  },
  {
   "cell_type": "markdown",
   "metadata": {},
   "source": [
    "| **Question**                                                | **Meaning of the Question**                                                |\n",
    "|-------------------------------------------------------------|---------------------------------------------------------------------------|\n",
    "| Which car is the most ideal?                                | Identify the relationships affecting the car's speed to choose the most ideal car. |\n",
    "| How have production trends changed? Analyze these trends.    | Analyze the changes in car production trends over time.                   |\n",
    "| Which origin is ideal for buying a car by mpg?                     | Identify the origin where car manufacturers have made the most improvements to buy durable and long-lasting cars by mpg. |\n",
    "\n"
   ]
  },
  {
   "cell_type": "markdown",
   "metadata": {},
   "source": [
    "## 3.1. Question 1: Which car is the most ideal? "
   ]
  },
  {
   "cell_type": "markdown",
   "metadata": {},
   "source": [
    "Nowadays, young people are passionate about speed. Therefore, as part of the younger generation, we will focus on relationships surrounding speed to evaluate the vehicles. Here, we will examine which columns influence the speed column by using the correlation between them."
   ]
  },
  {
   "cell_type": "markdown",
   "metadata": {},
   "source": [
    "First, we will use the `corr` function to understand the relationships between them."
   ]
  },
  {
   "cell_type": "code",
   "execution_count": 3,
   "metadata": {},
   "outputs": [
    {
     "name": "stdout",
     "output_type": "stream",
     "text": [
      "Correlation coefficient:\n",
      "                weight  acceleration       mpg  horsepower\n",
      "weight        1.000000     -0.417457 -0.831741    0.864538\n",
      "acceleration -0.417457      1.000000  0.420289   -0.689196\n",
      "mpg          -0.831741      0.420289  1.000000   -0.778427\n",
      "horsepower    0.864538     -0.689196 -0.778427    1.000000\n"
     ]
    }
   ],
   "source": [
    "correlation_matrix = df[['weight', 'acceleration', 'mpg', 'horsepower']].corr()\n",
    "print(\"Correlation coefficient:\")\n",
    "print(correlation_matrix)"
   ]
  },
  {
   "cell_type": "markdown",
   "metadata": {},
   "source": [
    "After that, we will normalize the data to make it easier to calculate scores."
   ]
  },
  {
   "cell_type": "code",
   "execution_count": 4,
   "metadata": {},
   "outputs": [],
   "source": [
    "mpg = df['mpg']\n",
    "mpg_norm = (mpg - mpg.min()) / (mpg.max() - mpg.min())\n",
    "\n",
    "weight = df['weight']\n",
    "weight_norm = (weight - weight.min()) / (weight.max() - weight.min())\n",
    "\n",
    "acceleration = df['acceleration']\n",
    "acceleration_norm = (acceleration - acceleration.min()) / (acceleration.max() - acceleration.min())\n",
    "\n",
    "horsepower = df['horsepower']\n",
    "horsepower_norm = (horsepower - horsepower.min()) / (horsepower.max() - horsepower.min())"
   ]
  },
  {
   "cell_type": "markdown",
   "metadata": {},
   "source": [
    "Next, we will filter out the cars with the highest scores."
   ]
  },
  {
   "cell_type": "code",
   "execution_count": 5,
   "metadata": {},
   "outputs": [
    {
     "data": {
      "text/html": [
       "<div>\n",
       "<style scoped>\n",
       "    .dataframe tbody tr th:only-of-type {\n",
       "        vertical-align: middle;\n",
       "    }\n",
       "\n",
       "    .dataframe tbody tr th {\n",
       "        vertical-align: top;\n",
       "    }\n",
       "\n",
       "    .dataframe thead th {\n",
       "        text-align: right;\n",
       "    }\n",
       "</style>\n",
       "<table border=\"1\" class=\"dataframe\">\n",
       "  <thead>\n",
       "    <tr style=\"text-align: right;\">\n",
       "      <th></th>\n",
       "      <th>name</th>\n",
       "      <th>mpg</th>\n",
       "      <th>cylinders</th>\n",
       "      <th>displacement</th>\n",
       "      <th>horsepower</th>\n",
       "      <th>weight</th>\n",
       "      <th>acceleration</th>\n",
       "      <th>model_year</th>\n",
       "      <th>origin</th>\n",
       "      <th>score</th>\n",
       "    </tr>\n",
       "  </thead>\n",
       "  <tbody>\n",
       "    <tr>\n",
       "      <th>0</th>\n",
       "      <td>vw pickup</td>\n",
       "      <td>44.0</td>\n",
       "      <td>4</td>\n",
       "      <td>97.0</td>\n",
       "      <td>52.0</td>\n",
       "      <td>2130</td>\n",
       "      <td>24.6</td>\n",
       "      <td>82</td>\n",
       "      <td>europe</td>\n",
       "      <td>1.739754</td>\n",
       "    </tr>\n",
       "    <tr>\n",
       "      <th>1</th>\n",
       "      <td>vw dasher (diesel)</td>\n",
       "      <td>43.4</td>\n",
       "      <td>4</td>\n",
       "      <td>90.0</td>\n",
       "      <td>48.0</td>\n",
       "      <td>2335</td>\n",
       "      <td>23.7</td>\n",
       "      <td>80</td>\n",
       "      <td>europe</td>\n",
       "      <td>1.633841</td>\n",
       "    </tr>\n",
       "    <tr>\n",
       "      <th>2</th>\n",
       "      <td>vw rabbit c (diesel)</td>\n",
       "      <td>44.3</td>\n",
       "      <td>4</td>\n",
       "      <td>90.0</td>\n",
       "      <td>48.0</td>\n",
       "      <td>2085</td>\n",
       "      <td>21.7</td>\n",
       "      <td>80</td>\n",
       "      <td>europe</td>\n",
       "      <td>1.609612</td>\n",
       "    </tr>\n",
       "    <tr>\n",
       "      <th>3</th>\n",
       "      <td>volkswagen rabbit custom diesel</td>\n",
       "      <td>43.1</td>\n",
       "      <td>4</td>\n",
       "      <td>90.0</td>\n",
       "      <td>48.0</td>\n",
       "      <td>1985</td>\n",
       "      <td>21.5</td>\n",
       "      <td>78</td>\n",
       "      <td>europe</td>\n",
       "      <td>1.594145</td>\n",
       "    </tr>\n",
       "    <tr>\n",
       "      <th>4</th>\n",
       "      <td>mazda glc</td>\n",
       "      <td>46.6</td>\n",
       "      <td>4</td>\n",
       "      <td>86.0</td>\n",
       "      <td>65.0</td>\n",
       "      <td>2110</td>\n",
       "      <td>17.9</td>\n",
       "      <td>80</td>\n",
       "      <td>japan</td>\n",
       "      <td>1.345112</td>\n",
       "    </tr>\n",
       "    <tr>\n",
       "      <th>5</th>\n",
       "      <td>datsun 210</td>\n",
       "      <td>40.8</td>\n",
       "      <td>4</td>\n",
       "      <td>85.0</td>\n",
       "      <td>65.0</td>\n",
       "      <td>2110</td>\n",
       "      <td>19.2</td>\n",
       "      <td>80</td>\n",
       "      <td>japan</td>\n",
       "      <td>1.268238</td>\n",
       "    </tr>\n",
       "    <tr>\n",
       "      <th>6</th>\n",
       "      <td>toyota corolla tercel</td>\n",
       "      <td>38.1</td>\n",
       "      <td>4</td>\n",
       "      <td>89.0</td>\n",
       "      <td>60.0</td>\n",
       "      <td>1968</td>\n",
       "      <td>18.8</td>\n",
       "      <td>80</td>\n",
       "      <td>japan</td>\n",
       "      <td>1.240054</td>\n",
       "    </tr>\n",
       "    <tr>\n",
       "      <th>7</th>\n",
       "      <td>chevrolet chevette</td>\n",
       "      <td>29.0</td>\n",
       "      <td>4</td>\n",
       "      <td>85.0</td>\n",
       "      <td>52.0</td>\n",
       "      <td>2035</td>\n",
       "      <td>22.2</td>\n",
       "      <td>76</td>\n",
       "      <td>usa</td>\n",
       "      <td>1.224896</td>\n",
       "    </tr>\n",
       "    <tr>\n",
       "      <th>8</th>\n",
       "      <td>toyota starlet</td>\n",
       "      <td>39.1</td>\n",
       "      <td>4</td>\n",
       "      <td>79.0</td>\n",
       "      <td>58.0</td>\n",
       "      <td>1755</td>\n",
       "      <td>16.9</td>\n",
       "      <td>81</td>\n",
       "      <td>japan</td>\n",
       "      <td>1.224816</td>\n",
       "    </tr>\n",
       "    <tr>\n",
       "      <th>9</th>\n",
       "      <td>renault 5 gtl</td>\n",
       "      <td>36.0</td>\n",
       "      <td>4</td>\n",
       "      <td>79.0</td>\n",
       "      <td>58.0</td>\n",
       "      <td>1825</td>\n",
       "      <td>18.6</td>\n",
       "      <td>77</td>\n",
       "      <td>europe</td>\n",
       "      <td>1.223712</td>\n",
       "    </tr>\n",
       "  </tbody>\n",
       "</table>\n",
       "</div>"
      ],
      "text/plain": [
       "                              name   mpg  cylinders  displacement  horsepower  \\\n",
       "0                        vw pickup  44.0          4          97.0        52.0   \n",
       "1               vw dasher (diesel)  43.4          4          90.0        48.0   \n",
       "2             vw rabbit c (diesel)  44.3          4          90.0        48.0   \n",
       "3  volkswagen rabbit custom diesel  43.1          4          90.0        48.0   \n",
       "4                        mazda glc  46.6          4          86.0        65.0   \n",
       "5                       datsun 210  40.8          4          85.0        65.0   \n",
       "6            toyota corolla tercel  38.1          4          89.0        60.0   \n",
       "7               chevrolet chevette  29.0          4          85.0        52.0   \n",
       "8                   toyota starlet  39.1          4          79.0        58.0   \n",
       "9                    renault 5 gtl  36.0          4          79.0        58.0   \n",
       "\n",
       "   weight  acceleration  model_year  origin     score  \n",
       "0    2130          24.6          82  europe  1.739754  \n",
       "1    2335          23.7          80  europe  1.633841  \n",
       "2    2085          21.7          80  europe  1.609612  \n",
       "3    1985          21.5          78  europe  1.594145  \n",
       "4    2110          17.9          80   japan  1.345112  \n",
       "5    2110          19.2          80   japan  1.268238  \n",
       "6    1968          18.8          80   japan  1.240054  \n",
       "7    2035          22.2          76     usa  1.224896  \n",
       "8    1755          16.9          81   japan  1.224816  \n",
       "9    1825          18.6          77  europe  1.223712  "
      ]
     },
     "execution_count": 5,
     "metadata": {},
     "output_type": "execute_result"
    }
   ],
   "source": [
    "score = mpg_norm - weight_norm + acceleration_norm - horsepower_norm\n",
    "df['score'] = score\n",
    "score = score.sort_values(ascending=False)\n",
    "df.loc[score.nlargest(10).index].reset_index(drop = True)"
   ]
  },
  {
   "cell_type": "markdown",
   "metadata": {},
   "source": [
    "- Top Performers: The top-scoring vehicles are the VW Pickup (1.739754) and VW Dasher (Diesel) (1.633841). This implies that these vehicles have a combination of attributes that contribute to a high score.\n",
    "\n",
    "- Origin and Score: It appears that European and Japanese vehicles tend to have higher scores compared to American vehicles. This could suggest that fuel efficiency and other factors considered in the scoring metric are generally better in these regions.  "
   ]
  }
 ],
 "metadata": {
  "kernelspec": {
   "display_name": "Python 3",
   "language": "python",
   "name": "python3"
  },
  "language_info": {
   "codemirror_mode": {
    "name": "ipython",
    "version": 3
   },
   "file_extension": ".py",
   "mimetype": "text/x-python",
   "name": "python",
   "nbconvert_exporter": "python",
   "pygments_lexer": "ipython3",
   "version": "3.12.6"
  }
 },
 "nbformat": 4,
 "nbformat_minor": 2
}
